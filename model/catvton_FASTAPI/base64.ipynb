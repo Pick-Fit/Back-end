{
 "cells": [
  {
   "cell_type": "code",
   "execution_count": 13,
   "metadata": {},
   "outputs": [
    {
     "name": "stdout",
     "output_type": "stream",
     "text": [
      "Base64 이미지가 base64_images.json에 저장되었습니다.\n"
     ]
    }
   ],
   "source": [
    "import base64\n",
    "import requests\n",
    "import json\n",
    "from PIL import Image\n",
    "from io import BytesIO\n",
    "\n",
    "class ImageConverter:\n",
    "    def __init__(self, image_source, source_type=\"local\"):\n",
    "        self.image_source = image_source\n",
    "        self.source_type = source_type\n",
    "\n",
    "    def convert_to_base64(self):\n",
    "        if self.source_type == \"url\":\n",
    "            return self.url_to_base64(self.image_source)\n",
    "        elif self.source_type == \"local\":\n",
    "            return self.local_file_to_base64(self.image_source)\n",
    "        else:\n",
    "            raise ValueError(\"잘못된 소스 타입입니다. 'local' 또는 'url'을 사용하세요.\")\n",
    "\n",
    "    def url_to_base64(self, image_url):\n",
    "        try:\n",
    "            # URL에서 이미지 데이터를 가져옵니다.\n",
    "            response = requests.get(image_url)\n",
    "            response.raise_for_status()  # 요청 오류가 있으면 예외 발생\n",
    "\n",
    "            # 이미지를 Base64로 인코딩합니다.\n",
    "            base64_image = base64.b64encode(response.content).decode('utf-8')\n",
    "            return base64_image\n",
    "        except Exception as e:\n",
    "            print(f\"오류: {e}\")\n",
    "            return None\n",
    "\n",
    "    def local_file_to_base64(self, image_path):\n",
    "        try:\n",
    "            # 로컬 이미지 파일을 엽니다.\n",
    "            with open(image_path, \"rb\") as img_file:\n",
    "                # 이미지 파일 내용을 Base64로 인코딩\n",
    "                base64_image = base64.b64encode(img_file.read()).decode('utf-8')\n",
    "            return base64_image\n",
    "        except Exception as e:\n",
    "            print(f\"오류: {e}\")\n",
    "            return None\n",
    "\n",
    "# 사용 예제\n",
    "image_url = \"https://image-cdn.trenbe.com/productmain-image/20240813_638590763125903688_22138664_0.jpg\"  \n",
    "image_path = \"C:/Users/epdgn/Downloads/catvton_test/trenbe/test/images/bottom_1.jpg\"  \n",
    "\n",
    "# URL에서 이미지를 가져오기\n",
    "url_converter = ImageConverter(image_url, source_type=\"url\")\n",
    "cloth_image = url_converter.convert_to_base64()\n",
    "\n",
    "# 로컬 파일에서 이미지를 가져오기\n",
    "local_converter = ImageConverter(image_path, source_type=\"local\")\n",
    "person_image = local_converter.convert_to_base64()\n",
    "\n",
    "# person_base64와 cloth_base64를 JSON 형식으로 저장\n",
    "base64_data = {\n",
    "    \"person_base64\": person_image,\n",
    "    \"cloth_base64\": cloth_image\n",
    "}\n",
    "\n",
    "# JSON 파일로 저장\n",
    "json_path = \"base64_images.json\"\n",
    "with open(json_path, \"w\") as json_file:\n",
    "    json.dump(base64_data, json_file, ensure_ascii=False, indent=4)\n",
    "\n",
    "print(f\"Base64 이미지가 {json_path}에 저장되었습니다.\")\n"
   ]
  }
 ],
 "metadata": {
  "kernelspec": {
   "display_name": "catvton",
   "language": "python",
   "name": "python3"
  },
  "language_info": {
   "codemirror_mode": {
    "name": "ipython",
    "version": 3
   },
   "file_extension": ".py",
   "mimetype": "text/x-python",
   "name": "python",
   "nbconvert_exporter": "python",
   "pygments_lexer": "ipython3",
   "version": "3.9.20"
  }
 },
 "nbformat": 4,
 "nbformat_minor": 2
}
